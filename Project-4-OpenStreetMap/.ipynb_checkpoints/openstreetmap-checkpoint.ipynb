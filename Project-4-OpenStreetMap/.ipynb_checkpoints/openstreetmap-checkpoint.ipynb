{
 "cells": [
  {
   "cell_type": "markdown",
   "metadata": {},
   "source": [
    "# Project: Wrangle OpenStreetMap Data (with SQL)"
   ]
  },
  {
   "cell_type": "markdown",
   "metadata": {},
   "source": [
    "I live in Vienna, Austria. I know the city quite well, so for this project I wanted to select the place as far away as it gets. One quick look at http://www.antipodr.com/, and... oh, a map of seafloor probably will not suffice, so I selected the first substantial land mass, and here we have - Auckland, New Zealand! (https://mapzen.com/data/metro-extracts/metro/auckland_new-zealand/)"
   ]
  },
  {
   "cell_type": "markdown",
   "metadata": {},
   "source": [
    "## Data audit"
   ]
  },
  {
   "cell_type": "code",
   "execution_count": 27,
   "metadata": {},
   "outputs": [],
   "source": [
    "# imports\n",
    "\n",
    "import xml.etree.cElementTree as ET\n",
    "from collections import defaultdict\n",
    "import sqlite3\n",
    "import pprint\n",
    "import csv\n",
    "import re\n",
    "import unicodecsv as csv\n",
    "import codecs\n",
    "import pandas\n",
    "import os\n",
    "import cerberus\n",
    "\n",
    "import schema"
   ]
  },
  {
   "cell_type": "code",
   "execution_count": 36,
   "metadata": {
    "collapsed": true
   },
   "outputs": [],
   "source": [
    "mapfile = 'auckland_new-zealand.osm'"
   ]
  },
  {
   "cell_type": "code",
   "execution_count": 2,
   "metadata": {},
   "outputs": [
    {
     "name": "stdout",
     "output_type": "stream",
     "text": [
      "{'bounds': 1,\n",
      " 'member': 21117,\n",
      " 'nd': 3308115,\n",
      " 'node': 2868725,\n",
      " 'osm': 1,\n",
      " 'relation': 1367,\n",
      " 'tag': 1602646,\n",
      " 'way': 316599}\n",
      "CPU times: user 36.9 s, sys: 12.3 s, total: 49.2 s\n",
      "Wall time: 51 s\n"
     ]
    }
   ],
   "source": [
    "%%time\n",
    "\n",
    "# count of unique tags\n",
    "def unique_tags(filename):\n",
    "    tags={}               \n",
    "    for event, elem in ET.iterparse(filename):\n",
    "        if elem.tag in tags.keys():\n",
    "            tags[elem.tag]+= 1\n",
    "        else:\n",
    "            tags[elem.tag] = 1\n",
    "    return tags\n",
    "\n",
    "\n",
    "pprint.pprint(unique_tags(mapfile))"
   ]
  },
  {
   "cell_type": "code",
   "execution_count": 3,
   "metadata": {},
   "outputs": [
    {
     "name": "stdout",
     "output_type": "stream",
     "text": [
      "{'lower': 852693, 'lower_colon': 19124, 'other': 730829, 'problemchars': 0}\n",
      "CPU times: user 42.7 s, sys: 11.1 s, total: 53.8 s\n",
      "Wall time: 54.6 s\n"
     ]
    }
   ],
   "source": [
    "%%time\n",
    "\n",
    "# checking for problem tags\n",
    "lower = re.compile(r'^([a-z]|_)*$')\n",
    "lower_colon = re.compile(r'^([a-z]|_)*:([a-z]|_)*$')\n",
    "problemchars = re.compile(r'[=\\+/&<>;\\'\"\\?%#$@\\,\\. \\t\\r\\n]')\n",
    "\n",
    "\n",
    "def key_type(element, keys):\n",
    "    if element.tag == \"tag\":\n",
    "        key = element.attrib['k']\n",
    "        if re.match(lower, key) != None:\n",
    "            keys['lower'] += 1\n",
    "        elif re.match(lower_colon, key) != None:\n",
    "            keys['lower_colon'] += 1\n",
    "        elif re.match(problemchars, key) != None:\n",
    "            keys['problemchars'] += 1\n",
    "        else:\n",
    "            keys['other'] += 1\n",
    "    return keys\n",
    "\n",
    "\n",
    "def process_map(filename):\n",
    "    keys = {\"lower\": 0, \"lower_colon\": 0, \"problemchars\": 0, \"other\": 0}\n",
    "    for _, element in ET.iterparse(filename):\n",
    "        keys = key_type(element, keys)\n",
    "\n",
    "    return keys\n",
    "\n",
    "\n",
    "pprint.pprint(process_map(mapfile))"
   ]
  },
  {
   "cell_type": "code",
   "execution_count": 28,
   "metadata": {},
   "outputs": [],
   "source": [
    "# passing expected values for street names and postcodes from csv file\n",
    "\n",
    "with open('expected.csv', 'rb') as f:\n",
    "    data =[]\n",
    "    reader = csv.reader(f)\n",
    "    for row in reader:\n",
    "        data.append(row)\n",
    "    expected_street = data[0]\n",
    "    expected_postcode = data[1]"
   ]
  },
  {
   "cell_type": "markdown",
   "metadata": {},
   "source": [
    "### Street types in Auckland\n",
    "\n",
    "Here I am going to review if street types are abbreviated eg. \"Str.\", misspelled, with lowercase characters \"street\", or combination of above, and then I am going to fix it."
   ]
  },
  {
   "cell_type": "code",
   "execution_count": 5,
   "metadata": {},
   "outputs": [
    {
     "name": "stdout",
     "output_type": "stream",
     "text": [
      "{'0632': set(['15 Arrenway Dr, Rosedale, Auckland 0632']),\n",
      " '16': set(['State Highway 16']),\n",
      " '2': set(['State Highway 2']),\n",
      " '22': set(['State Highway 22']),\n",
      " '26': set(['26']),\n",
      " 'Auckland': set(['Exmouth Road, Northcote, Auckland']),\n",
      " 'Ave': set(['Brennan Ave',\n",
      "             'Delta Ave',\n",
      "             'Erson Ave',\n",
      "             'Gillies Ave',\n",
      "             'Vitasovich Ave',\n",
      "             'Waverley Ave']),\n",
      " 'Broadway': set(['Broadway']),\n",
      " 'Close': set(['Challen Close', 'Court Town Close', 'Regia Close']),\n",
      " 'Coronation': set(['Coronation']),\n",
      " 'Cove': set(['Clearwater Cove']),\n",
      " 'Cr': set(['Marjorie Jayne Cr']),\n",
      " 'Cresent': set(['Tawa Cresent']),\n",
      " 'East': set(['Customs Street East',\n",
      "              'Durham Street East',\n",
      "              'Greenlane East',\n",
      "              'Pakenham Street East',\n",
      "              'Sylvan Avenue East',\n",
      "              'Victoria Street East',\n",
      "              'Virginia Avenue East',\n",
      "              'Wellesley Street East']),\n",
      " 'Esplanade': set(['The Esplanade']),\n",
      " 'Expressway': set(['Albany Expressway']),\n",
      " 'Gardens': set(['Westminster Gardens']),\n",
      " 'Highway': set(['676 Mount Wellington Highway',\n",
      "                 'Albany Highway',\n",
      "                 'Coatesville-Riverhead Highway',\n",
      "                 'Dairy Flat Highway',\n",
      "                 'Hibiscus Coast Highway',\n",
      "                 'Kaipara Coast Highway',\n",
      "                 'Mount Wellington Highway']),\n",
      " 'Hill': set(['College Hill']),\n",
      " 'Howick)': set(['Fisher Parade (Howick)']),\n",
      " 'Hurstmere': set(['Hurstmere']),\n",
      " 'Hwy': set(['Main Hwy']),\n",
      " 'Mall': set(['Onehunga Mall']),\n",
      " 'Motorway': set(['Auckland Southern Motorway']),\n",
      " 'Newmarket': set(['Gillies Avenue, Newmarket']),\n",
      " 'Parade': set(['Fisher Parade', 'King Edward Parade', 'The Parade']),\n",
      " 'Plc,': set(['Cnr St Lukes Rd & Wagener Plc,']),\n",
      " 'Ponsonby': set(['Ponsonby']),\n",
      " 'Rd': set(['Botany Rd',\n",
      "            'Coster Rd',\n",
      "            'New North Rd',\n",
      "            'Ponsonby Rd',\n",
      "            'Richmond Rd']),\n",
      " 'Redwood': set(['Redwood']),\n",
      " 'Rise': set(['Bampton Rise', 'Pacific Rise']),\n",
      " 'School': set(['Red Beach Primary School']),\n",
      " 'South': set(['Grange Road South']),\n",
      " 'St': set(['Balm St', 'Queen St', 'hardinge St']),\n",
      " 'St.': set(['Queen St.']),\n",
      " 'Strand': set(['The Strand']),\n",
      " 'Strret': set(['Cracroft Strret']),\n",
      " 'Subritzky': set(['Subritzky']),\n",
      " 'Tai': set(['Ara Tai']),\n",
      " 'Terrace': set(['Kohia Terrace',\n",
      "                 'Poynton Terrace',\n",
      "                 'Quest Terrace',\n",
      "                 'Scarborough Terrace',\n",
      "                 'Seaview Terrace',\n",
      "                 'Shea Terrace',\n",
      "                 'Sunset Terrace',\n",
      "                 'Taunton Terrace']),\n",
      " 'W': set(['Victoria St W']),\n",
      " 'Wellington': set(['Waipuna Road, Mt Wellington']),\n",
      " 'West': set(['Crayford Street West',\n",
      "              'Customs Street West',\n",
      "              'Green Lane West',\n",
      "              'Sylvan Avenue West',\n",
      "              'Tironui Station Road West',\n",
      "              'Victoria Street West',\n",
      "              'Wellesley St West',\n",
      "              'Wellesley Street West',\n",
      "              'Westmoreland Street West']),\n",
      " 'Wharf': set(['Princes Wharf']),\n",
      " 'Zealand': set(['New Zealand']),\n",
      " 'beach': set(['Little Oneroa beach']),\n",
      " 'ln': set(['Fort ln']),\n",
      " 'road': set(['hekerua road']),\n",
      " 'st': set(['Queen st']),\n",
      " 'street': set(['Durham street', 'Gore street', 'Haughey street']),\n",
      " 'way': set(['Kanona way'])}\n",
      "CPU times: user 38.3 s, sys: 10.9 s, total: 49.2 s\n",
      "Wall time: 49.7 s\n"
     ]
    }
   ],
   "source": [
    "%%time\n",
    "\n",
    "# checking for problematic street types\n",
    "street_names_re = re.compile(r'\\b\\S+\\.?$', re.IGNORECASE)\n",
    "\n",
    "\n",
    "def audit_street_type(street_types, street_name):\n",
    "    m = street_names_re.search(street_name)\n",
    "    if m:\n",
    "        street_type = m.group()\n",
    "        if street_type not in expected_street:\n",
    "            street_types[street_type].add(street_name)\n",
    "\n",
    "\n",
    "def audit(mapfile):\n",
    "    with open(mapfile, 'r') as osm_file:\n",
    "        osm_file = open(mapfile, 'r')\n",
    "        street_types = defaultdict(set)\n",
    "\n",
    "        for event, elem in ET.iterparse(osm_file, events=('start',)):\n",
    "            if elem.tag == 'node' or elem.tag == 'way':\n",
    "                for tag in elem.iter('tag'):\n",
    "                    if (tag.attrib['k'] == 'addr:street'):\n",
    "                        audit_street_type(street_types, tag.attrib['v'])\n",
    "    return street_types\n",
    "\n",
    "\n",
    "pprint.pprint(dict(audit(mapfile)))"
   ]
  },
  {
   "cell_type": "markdown",
   "metadata": {},
   "source": [
    "Not all street types need correction, some were not included on the expected_street list, like \"Highway\"."
   ]
  },
  {
   "cell_type": "code",
   "execution_count": 6,
   "metadata": {},
   "outputs": [
    {
     "name": "stdout",
     "output_type": "stream",
     "text": [
      "('Queen St.', '=>', 'Queen Street')\n",
      "('Richmond Rd', '=>', 'Richmond Road')\n",
      "('Botany Rd', '=>', 'Botany Road')\n",
      "('Ponsonby Rd', '=>', 'Ponsonby Road')\n",
      "('Coster Rd', '=>', 'Coster Road')\n",
      "('New North Rd', '=>', 'New North Road')\n",
      "('Tawa Cresent', '=>', 'Tawa Crescent')\n",
      "('Haughey street', '=>', 'Haughey Street')\n",
      "('Gore street', '=>', 'Gore Street')\n",
      "('Durham street', '=>', 'Durham Street')\n",
      "('Subritzky', '=>', 'Subritzky Avenue')\n",
      "('Hurstmere', '=>', 'Hurstmere Road')\n",
      "('Fort ln', '=>', 'Fort Lane')\n",
      "('Cracroft Strret', '=>', 'Cracroft Street')\n",
      "('Kanona way', '=>', 'Kanona Way')\n",
      "('Main Hwy', '=>', 'Main Highway')\n",
      "('Little Oneroa beach', '=>', 'Little Oneroa Beach')\n",
      "('hardinge St', '=>', 'hardinge Street')\n",
      "('Queen St', '=>', 'Queen Street')\n",
      "('Balm St', '=>', 'Balm Street')\n",
      "('Victoria St W', '=>', 'Victoria St West')\n",
      "('Erson Ave', '=>', 'Erson Avenue')\n",
      "('Brennan Ave', '=>', 'Brennan Avenue')\n",
      "('Vitasovich Ave', '=>', 'Vitasovich Avenue')\n",
      "('Gillies Ave', '=>', 'Gillies Avenue')\n",
      "('Delta Ave', '=>', 'Delta Avenue')\n",
      "('Waverley Ave', '=>', 'Waverley Avenue')\n",
      "('Queen st', '=>', 'Queen Street')\n",
      "('Marjorie Jayne Cr', '=>', 'Marjorie Jayne Crove')\n",
      "('Ara Tai', '=>', 'Ara Tai Road')\n",
      "('hekerua road', '=>', 'hekerua Road')\n",
      "31 corrections made\n",
      "CPU times: user 38.5 s, sys: 10.8 s, total: 49.4 s\n",
      "Wall time: 49.9 s\n"
     ]
    }
   ],
   "source": [
    "%%time\n",
    "\n",
    "# cleaning-up street types using the mapping pattern\n",
    "mapping = {'Ave': 'Avenue',\n",
    "           'beach':'Beach',\n",
    "           'Cr':'Crove',\n",
    "           'Cresent':'Crescent',\n",
    "           'ln':'Lane',\n",
    "           'Hwy':'Highway',\n",
    "           'Rd':'Road',\n",
    "           'road':'Road',\n",
    "           'St':'Street',\n",
    "           'st':'Street',\n",
    "           'St.':'Street',\n",
    "           'street':'Street',\n",
    "           'Strret':'Street',\n",
    "           'W':'West',\n",
    "           'way':'Way',\n",
    "           'Subritzky':'Subritzky Avenue',\n",
    "           'Tai':'Tai Road',\n",
    "           'Hurstmere':'Hurstmere Road'\n",
    "          }\n",
    "\n",
    "\n",
    "def fix_street(mapfile):\n",
    "    street_types = audit(mapfile)\n",
    "    corr_count = 0\n",
    "    for street_type, ways in street_types.iteritems():\n",
    "        for name in ways:\n",
    "            if street_type in mapping:\n",
    "                better_name = name.replace(street_type, mapping[street_type])\n",
    "                corr_count +=1\n",
    "                print(name, \"=>\", better_name)\n",
    "    print ('{} corrections made').format(corr_count)\n",
    "\n",
    "    \n",
    "fix_street(mapfile)"
   ]
  },
  {
   "cell_type": "markdown",
   "metadata": {},
   "source": [
    "### Postcode list for Auckland\n",
    "\n",
    "https://www.google.com/search?q=postal+code+list+auckland"
   ]
  },
  {
   "cell_type": "code",
   "execution_count": 40,
   "metadata": {},
   "outputs": [
    {
     "name": "stdout",
     "output_type": "stream",
     "text": [
      "0 postcodes with different format\n",
      "51 unknown postcodes\n",
      "{'0312': set(['0312']),\n",
      " '0641': set(['0641']),\n",
      " '0793': set(['0793']),\n",
      " '0800': set(['0800']),\n",
      " '0810': set(['0810']),\n",
      " '0812': set(['0812']),\n",
      " '0816': set(['0816']),\n",
      " '0841': set(['0841']),\n",
      " '0873': set(['0873']),\n",
      " '0874': set(['0874']),\n",
      " '0881': set(['0881']),\n",
      " '0882': set(['0882']),\n",
      " '0891': set(['0891']),\n",
      " '0892': set(['0892']),\n",
      " '0920': set(['0920']),\n",
      " '0930': set(['0930']),\n",
      " '0931': set(['0931']),\n",
      " '0932': set(['0932']),\n",
      " '0983': set(['0983']),\n",
      " '0993': set(['0993']),\n",
      " '1001': set(['1001']),\n",
      " '1024': set(['1024']),\n",
      " '1050': set(['1050']),\n",
      " '1053': set(['1053']),\n",
      " '1971': set(['1971']),\n",
      " '2010': set(['2010']),\n",
      " '2012': set(['2012']),\n",
      " '2013': set(['2013']),\n",
      " '2014': set(['2014']),\n",
      " '2020': set(['2020']),\n",
      " '2110': set(['2110']),\n",
      " '2112': set(['2112']),\n",
      " '2113': set(['2113']),\n",
      " '2120': set(['2120']),\n",
      " '2121': set(['2121']),\n",
      " '2123': set(['2123']),\n",
      " '2143': set(['2143']),\n",
      " '2343': set(['2343']),\n",
      " '2471': set(['2471']),\n",
      " '2472': set(['2472']),\n",
      " '2474': set(['2474']),\n",
      " '2578': set(['2578']),\n",
      " '2579': set(['2579']),\n",
      " '2580': set(['2580']),\n",
      " '2582': set(['2582']),\n",
      " '2675': set(['2675']),\n",
      " '2676': set(['2676']),\n",
      " '2677': set(['2677']),\n",
      " '2696': set(['2696']),\n",
      " '2697': set(['2697']),\n",
      " '8073': set(['8073'])}\n",
      "CPU times: user 42.2 s, sys: 12.5 s, total: 54.7 s\n",
      "Wall time: 57 s\n"
     ]
    }
   ],
   "source": [
    "%%time\n",
    "\n",
    "postcodes_re = re.compile(r'^\\d{4}$')\n",
    "\n",
    "def postcode_audit(mapfile):\n",
    "    '''\n",
    "    checks for postcode format - 4 digits\n",
    "    and for foreign postcodes - not in the postcode list for Auckland\n",
    "    '''\n",
    "    counter = 0\n",
    "    with open(mapfile, 'r') as mapfile:\n",
    "        postcode_format = defaultdict(set)\n",
    "        \n",
    "        for event, elem in ET.iterparse(mapfile, events=('start',)):\n",
    "            if elem.tag == 'node' or elem.tag == 'way':\n",
    "                for tag in elem.iter('tag'):\n",
    "                    if (tag.attrib['k'] == 'addr:postcode'):\n",
    "                        audit_postcode_format(postcode_format, tag.attrib['v'])\n",
    "                        if not re.match(postcodes_re, tag.attrib['v']):\n",
    "                            counter += 1\n",
    "    print '{} postcodes with different format'.format(counter)\n",
    "    print '{} unknown postcodes'.format(len(postcode_format))\n",
    "    return postcode_format\n",
    "\n",
    "\n",
    "def audit_postcode_format(postcode_format, postcode):\n",
    "    m = postcodes_re.search(postcode)\n",
    "    if m:\n",
    "        postcode_type = m.group()\n",
    "        if postcode_type not in expected_postcode:\n",
    "            postcode_format[postcode_type].add(postcode)\n",
    "\n",
    "\n",
    "pprint.pprint(dict(postcode_audit(mapfile)))"
   ]
  },
  {
   "cell_type": "markdown",
   "metadata": {},
   "source": [
    "There were no postcodes with incorrect format, but 51 postcodes do not belong to Auckland. We'll investigate further once the data is in database."
   ]
  },
  {
   "cell_type": "markdown",
   "metadata": {},
   "source": [
    "### XML to csv\n",
    "\n",
    "In this step I am going to transform XML map data to be stored in correct format in .csv files that will be used for easy data import to SQL database.\n",
    "\n",
    "The process for this transformation is as follows:\n",
    "- Use iterparse to iteratively step through each top level element in the XML\n",
    "- Shape each element into several data structures using a custom function\n",
    "- Utilize a schema and validation library to ensure the transformed data is in the correct format\n",
    "- Write each data structure to the appropriate .csv files"
   ]
  },
  {
   "cell_type": "code",
   "execution_count": 9,
   "metadata": {},
   "outputs": [],
   "source": [
    "OSM_PATH = mapfile\n",
    "\n",
    "NODES_PATH = \"nodes.csv\"\n",
    "NODE_TAGS_PATH = \"nodes_tags.csv\"\n",
    "WAYS_PATH = \"ways.csv\"\n",
    "WAY_NODES_PATH = \"ways_nodes.csv\"\n",
    "WAY_TAGS_PATH = \"ways_tags.csv\"\n",
    "\n",
    "LOWER_COLON = re.compile(r'^([a-z]|_)+:([a-z]|_)+')\n",
    "PROBLEMCHARS = re.compile(r'[=\\+/&<>;\\'\"\\?%#$@\\,\\. \\t\\r\\n]')\n",
    "\n",
    "SCHEMA = schema.schema\n",
    "\n",
    "NODE_FIELDS = ['id', 'lat', 'lon', 'user', 'uid', 'version', 'changeset', 'timestamp']\n",
    "NODE_TAGS_FIELDS = ['id', 'key', 'value', 'type']\n",
    "WAY_FIELDS = ['id', 'user', 'uid', 'version', 'changeset', 'timestamp']\n",
    "WAY_TAGS_FIELDS = ['id', 'key', 'value', 'type']\n",
    "WAY_NODES_FIELDS = ['id', 'node_id', 'position']\n",
    "\n",
    "\n",
    "def shape_element(element, node_attr_fields=NODE_FIELDS, way_attr_fields=WAY_FIELDS,\n",
    "                  problem_chars=PROBLEMCHARS, default_tag_type='regular'):\n",
    "    '''\n",
    "    Clean and shape node or way XML element to Python dict\n",
    "    \n",
    "    '''\n",
    "\n",
    "    node_attribs = {}\n",
    "    way_attribs = {}\n",
    "    way_nodes = []\n",
    "    tags = []  \n",
    "    \n",
    "    if element.tag == 'node':\n",
    "        for attrib, value in element.attrib.iteritems():\n",
    "            if attrib in node_attr_fields:\n",
    "                node_attribs[attrib] = value  \n",
    "\n",
    "        for secondary in element:\n",
    "            if problem_chars.match(secondary.attrib['k']):\n",
    "                continue\n",
    "            tag = {}\n",
    "            tag['id'] = element.attrib['id']\n",
    "            tag['value'] = secondary.attrib['v']\n",
    "                \n",
    "            if \":\" in secondary.attrib['k']:\n",
    "                tag['key'] = secondary.attrib['k'].split(':',1)[1]\n",
    "                tag['type'] = secondary.attrib['k'].split(':',1)[0]\n",
    "                tags.append(tag)\n",
    "            else:\n",
    "                tag['type'] = 'regular'\n",
    "                tag['key'] = secondary.attrib['k']\n",
    "                tags.append(tag)\n",
    "\n",
    "        return {'node': node_attribs, 'node_tags': tags}\n",
    "        \n",
    "    elif element.tag == 'way':\n",
    "        for attrib in element.attrib:\n",
    "            if attrib in way_attr_fields:\n",
    "                way_attribs[attrib] = element.attrib[attrib]\n",
    "        \n",
    "        position = 0\n",
    "        for secondary in element:\n",
    "            tag = {}\n",
    "            node = {}\n",
    "            if secondary.tag == 'tag':\n",
    "                if PROBLEMCHARS.match(secondary.attrib['k']):\n",
    "                    continue\n",
    "                tag['id'] = element.attrib['id']\n",
    "                tag['value'] = secondary.attrib['v']\n",
    "                if \":\" in secondary.attrib['k']:\n",
    "                    tag['type'] = secondary.attrib['k'].split(':',1)[0]\n",
    "                    tag['key'] = secondary.attrib['k'].split(':',1)[1]\n",
    "                    tags.append(tag)\n",
    "                else:\n",
    "                    tag['type'] = 'regular'\n",
    "                    tag['key'] = secondary.attrib['k']\n",
    "                    tags.append(tag)\n",
    "                    \n",
    "            elif secondary.tag == 'nd':\n",
    "                node['id'] = element.attrib['id']\n",
    "                node['node_id'] = secondary.attrib['ref']\n",
    "                node['position'] = position\n",
    "                position += 1\n",
    "                way_nodes.append(node)\n",
    "        \n",
    "        return {'way': way_attribs, 'way_nodes': way_nodes, 'way_tags': tags}"
   ]
  },
  {
   "cell_type": "code",
   "execution_count": 10,
   "metadata": {},
   "outputs": [],
   "source": [
    "# ================================================== #\n",
    "#               Helper Functions                     #\n",
    "# ================================================== #\n",
    "def get_element(osm_file, tags=('node', 'way', 'relation')):\n",
    "    \"\"\"Yield element if it is the right type of tag\"\"\"\n",
    "\n",
    "    context = ET.iterparse(osm_file, events=('start', 'end'))\n",
    "    _, root = next(context)\n",
    "    for event, elem in context:\n",
    "        if event == 'end' and elem.tag in tags:\n",
    "            yield elem\n",
    "            root.clear()\n",
    "\n",
    "\n",
    "def validate_element(element, validator, schema=SCHEMA):\n",
    "    \"\"\"Raise ValidationError if element does not match schema\"\"\"\n",
    "    if validator.validate(element, schema) is not True:\n",
    "        field, errors = next(validator.errors.iteritems())\n",
    "        message_string = \"\\nElement of type '{0}' has the following errors:\\n{1}\"\n",
    "        error_strings = (\n",
    "            \"{0}: {1}\".format(k, v if isinstance(v, str) else \", \".join(v))\n",
    "            for k, v in errors.iteritems()\n",
    "        )\n",
    "        raise cerberus.ValidationError(\n",
    "            message_string.format(field, \"\\n\".join(error_strings))\n",
    "        )\n",
    "\n",
    "\n",
    "class UnicodeDictWriter(csv.DictWriter, object):\n",
    "    \"\"\"Extend csv.DictWriter to handle Unicode input\"\"\"\n",
    "\n",
    "    def writerow(self, row):\n",
    "        super(UnicodeDictWriter, self).writerow({\n",
    "            k: (v.encode('utf-8') if isinstance(v, unicode) else v) for k, v in row.iteritems()\n",
    "        })\n",
    "\n",
    "    def writerows(self, rows):\n",
    "        for row in rows:\n",
    "            self.writerow(row)\n",
    "\n",
    "\n",
    "\n"
   ]
  },
  {
   "cell_type": "code",
   "execution_count": 11,
   "metadata": {},
   "outputs": [
    {
     "name": "stdout",
     "output_type": "stream",
     "text": [
      "CPU times: user 4min 59s, sys: 18.4 s, total: 5min 18s\n",
      "Wall time: 5min 19s\n"
     ]
    }
   ],
   "source": [
    "%%time\n",
    "\n",
    "# ================================================== #\n",
    "#               Main Function                        #\n",
    "# ================================================== #\n",
    "def process_map(file_in, validate):\n",
    "    \"\"\"Iteratively process each XML element and write to csv(s)\"\"\"\n",
    "\n",
    "    with codecs.open(NODES_PATH, 'w') as nodes_file, \\\n",
    "         codecs.open(NODE_TAGS_PATH, 'w') as nodes_tags_file, \\\n",
    "         codecs.open(WAYS_PATH, 'w') as ways_file, \\\n",
    "         codecs.open(WAY_NODES_PATH, 'w') as way_nodes_file, \\\n",
    "         codecs.open(WAY_TAGS_PATH, 'w') as way_tags_file:\n",
    "\n",
    "        nodes_writer = UnicodeDictWriter(nodes_file, NODE_FIELDS)\n",
    "        node_tags_writer = UnicodeDictWriter(nodes_tags_file, NODE_TAGS_FIELDS)\n",
    "        ways_writer = UnicodeDictWriter(ways_file, WAY_FIELDS)\n",
    "        way_nodes_writer = UnicodeDictWriter(way_nodes_file, WAY_NODES_FIELDS)\n",
    "        way_tags_writer = UnicodeDictWriter(way_tags_file, WAY_TAGS_FIELDS)\n",
    "\n",
    "        nodes_writer.writeheader()\n",
    "        node_tags_writer.writeheader()\n",
    "        ways_writer.writeheader()\n",
    "        way_nodes_writer.writeheader()\n",
    "        way_tags_writer.writeheader()\n",
    "\n",
    "        validator = cerberus.Validator()\n",
    "\n",
    "        for element in get_element(file_in, tags=('node', 'way')):\n",
    "            el = shape_element(element)\n",
    "            if el:\n",
    "                if validate is True:\n",
    "                    validate_element(el, validator)\n",
    "\n",
    "                if element.tag == 'node':\n",
    "                    nodes_writer.writerow(el['node'])\n",
    "                    node_tags_writer.writerows(el['node_tags'])\n",
    "                elif element.tag == 'way':\n",
    "                    ways_writer.writerow(el['way'])\n",
    "                    way_nodes_writer.writerows(el['way_nodes'])\n",
    "                    way_tags_writer.writerows(el['way_tags'])\n",
    "\n",
    "\n",
    "if __name__ == '__main__':\n",
    "    # Note: Validation is ~ 10X slower. For the project consider using a small\n",
    "    # sample of the map when validating.\n",
    "    process_map(OSM_PATH, validate=False)"
   ]
  },
  {
   "cell_type": "markdown",
   "metadata": {
    "collapsed": true
   },
   "source": [
    "### Creating SQL database and tables"
   ]
  },
  {
   "cell_type": "code",
   "execution_count": 12,
   "metadata": {},
   "outputs": [
    {
     "data": {
      "text/plain": [
       "<sqlite3.Cursor at 0x10af4a9d0>"
      ]
     },
     "execution_count": 12,
     "metadata": {},
     "output_type": "execute_result"
    }
   ],
   "source": [
    "# initialize sql database\n",
    "conn = sqlite3.connect('openmap.db')\n",
    "conn.text_factory = str\n",
    "c = conn.cursor()\n",
    "\n",
    "# create tables\n",
    "c.execute('''CREATE TABLE nodes (\n",
    "    id INTEGER PRIMARY KEY NOT NULL,\n",
    "    lat REAL,\n",
    "    lon REAL,\n",
    "    user TEXT,\n",
    "    uid INTEGER,\n",
    "    version INTEGER,\n",
    "    changeset INTEGER,\n",
    "    timestamp TEXT\n",
    ");''')\n",
    "\n",
    "c.execute('''CREATE TABLE nodes_tags (\n",
    "    id INTEGER,\n",
    "    key TEXT,\n",
    "    value TEXT,\n",
    "    type TEXT,\n",
    "    FOREIGN KEY (id) REFERENCES nodes(id)\n",
    ");''')\n",
    "\n",
    "c.execute('''CREATE TABLE ways (\n",
    "    id INTEGER PRIMARY KEY NOT NULL,\n",
    "    user TEXT,\n",
    "    uid INTEGER,\n",
    "    version TEXT,\n",
    "    changeset INTEGER,\n",
    "    timestamp TEXT\n",
    ");''')\n",
    "\n",
    "c.execute('''CREATE TABLE ways_tags (\n",
    "    id INTEGER NOT NULL,\n",
    "    key TEXT NOT NULL,\n",
    "    value TEXT NOT NULL,\n",
    "    type TEXT,\n",
    "    FOREIGN KEY (id) REFERENCES ways(id)\n",
    ");''')\n",
    "\n",
    "c.execute('''CREATE TABLE ways_nodes (\n",
    "    id INTEGER NOT NULL,\n",
    "    node_id INTEGER NOT NULL,\n",
    "    position INTEGER NOT NULL,\n",
    "    FOREIGN KEY (id) REFERENCES ways(id),\n",
    "    FOREIGN KEY (node_id) REFERENCES nodes(id)\n",
    ");''')"
   ]
  },
  {
   "cell_type": "markdown",
   "metadata": {},
   "source": [
    "## Inserting data into SQL database\n",
    "\n",
    "I am using pandas dataframes to import data from .csv to SQL database."
   ]
  },
  {
   "cell_type": "code",
   "execution_count": 13,
   "metadata": {},
   "outputs": [
    {
     "name": "stdout",
     "output_type": "stream",
     "text": [
      "CPU times: user 36.4 s, sys: 1.99 s, total: 38.4 s\n",
      "Wall time: 38.6 s\n"
     ]
    }
   ],
   "source": [
    "%%time\n",
    " \n",
    "# use pandas dataframe to import csv to SQL database\n",
    "df = pandas.read_csv('nodes_tags.csv')\n",
    "df.to_sql('nodes_tags', conn, if_exists='append', index=False)\n",
    "df = pandas.read_csv('nodes.csv')\n",
    "df.to_sql('nodes', conn, if_exists='append', index=False)\n",
    "df = pandas.read_csv('ways_nodes.csv')\n",
    "df.to_sql('ways_nodes', conn, if_exists='append', index=False)\n",
    "df = pandas.read_csv('ways_tags.csv')\n",
    "df.to_sql('ways_tags', conn, if_exists='append', index=False)\n",
    "df = pandas.read_csv(\"ways.csv\")\n",
    "df.to_sql('ways', conn, if_exists='append', index=False)"
   ]
  },
  {
   "cell_type": "code",
   "execution_count": 26,
   "metadata": {},
   "outputs": [
    {
     "name": "stdout",
     "output_type": "stream",
     "text": [
      "Auckland map      file size: 660.0 MB\n",
      "nodes.csv         file size: 246.0 MB\n",
      "nodes_tags.csv    file size: 4.0 MB\n",
      "ways.csv          file size: 19.0 MB\n",
      "ways_nodes.csv    file size: 80.0 MB\n",
      "ways_tags.csv     file size: 77.0 MB\n",
      "openmap.db        file size: 376.0 MB\n"
     ]
    }
   ],
   "source": [
    "print 'Auckland map      file size: {} MB'.format(round(os.path.getsize(\"auckland_new-zealand.osm\")/1.0e6))\n",
    "print 'nodes.csv         file size: {} MB'.format(round(os.path.getsize(\"nodes.csv\")/1.0e6))\n",
    "print 'nodes_tags.csv    file size: {} MB'.format(round(os.path.getsize(\"nodes_tags.csv\")/1.0e6))\n",
    "print 'ways.csv          file size: {} MB'.format(round(os.path.getsize(\"ways.csv\")/1.0e6))\n",
    "print 'ways_nodes.csv    file size: {} MB'.format(round(os.path.getsize(\"ways_nodes.csv\")/1.0e6))\n",
    "print 'ways_tags.csv     file size: {} MB'.format(round(os.path.getsize(\"ways_tags.csv\")/1.0e6))\n",
    "print 'openmap.db        file size: {} MB'.format(round(os.path.getsize(\"openmap.db\")/1.0e6))"
   ]
  },
  {
   "cell_type": "markdown",
   "metadata": {},
   "source": [
    "## Data exploration using SQL"
   ]
  },
  {
   "cell_type": "markdown",
   "metadata": {},
   "source": [
    "To execute SQL queries in Jupyter I am using [ipython-sql](https://github.com/catherinedevlin/ipython-sql)\n"
   ]
  },
  {
   "cell_type": "code",
   "execution_count": 14,
   "metadata": {},
   "outputs": [],
   "source": [
    "%load_ext sql"
   ]
  },
  {
   "cell_type": "code",
   "execution_count": 42,
   "metadata": {},
   "outputs": [
    {
     "data": {
      "text/plain": [
       "u'Connected: None@openmap.db'"
      ]
     },
     "execution_count": 42,
     "metadata": {},
     "output_type": "execute_result"
    }
   ],
   "source": [
    "%sql sqlite:///openmap.db"
   ]
  },
  {
   "cell_type": "markdown",
   "metadata": {},
   "source": [
    "## Data exploration"
   ]
  },
  {
   "cell_type": "code",
   "execution_count": 16,
   "metadata": {},
   "outputs": [
    {
     "name": "stdout",
     "output_type": "stream",
     "text": [
      "Done.\n",
      "Number of nodes: 2868725\n",
      "Done.\n",
      "Number of ways: 316599\n"
     ]
    }
   ],
   "source": [
    "num_nodes = %sql SELECT COUNT(*) FROM nodes\n",
    "print 'Number of nodes: {}'.format(num_nodes[0][0])\n",
    "num_ways = %sql SELECT COUNT(*) FROM ways\n",
    "print 'Number of ways: {}'.format(num_ways[0][0])"
   ]
  },
  {
   "cell_type": "code",
   "execution_count": 17,
   "metadata": {},
   "outputs": [
    {
     "name": "stdout",
     "output_type": "stream",
     "text": [
      "Done.\n"
     ]
    },
    {
     "data": {
      "text/html": [
       "<table>\n",
       "    <tr>\n",
       "        <th>Unique Users</th>\n",
       "    </tr>\n",
       "    <tr>\n",
       "        <td>937</td>\n",
       "    </tr>\n",
       "</table>"
      ],
      "text/plain": [
       "[(937,)]"
      ]
     },
     "execution_count": 17,
     "metadata": {},
     "output_type": "execute_result"
    }
   ],
   "source": [
    "%%sql\n",
    "-- count of unique users\n",
    "SELECT COUNT(DISTINCT(uid)) as 'Unique Users'\n",
    "FROM (SELECT uid \n",
    "      FROM nodes \n",
    "      UNION SELECT uid FROM ways) AS e;"
   ]
  },
  {
   "cell_type": "code",
   "execution_count": 18,
   "metadata": {},
   "outputs": [
    {
     "name": "stdout",
     "output_type": "stream",
     "text": [
      "Done.\n"
     ]
    },
    {
     "data": {
      "text/html": [
       "<table>\n",
       "    <tr>\n",
       "        <th>Users_1_contrib</th>\n",
       "    </tr>\n",
       "    <tr>\n",
       "        <td>243</td>\n",
       "    </tr>\n",
       "</table>"
      ],
      "text/plain": [
       "[(243,)]"
      ]
     },
     "execution_count": 18,
     "metadata": {},
     "output_type": "execute_result"
    }
   ],
   "source": [
    "%%sql\n",
    "-- count of users with only one contribution\n",
    "SELECT COUNT(*) as Users_1_contrib\n",
    "FROM\n",
    "    (SELECT e.user, COUNT(*) as num\n",
    "     FROM (SELECT user FROM nodes UNION ALL SELECT user FROM ways) e\n",
    "     GROUP BY e.user\n",
    "     HAVING num=1) a;"
   ]
  },
  {
   "cell_type": "code",
   "execution_count": 45,
   "metadata": {},
   "outputs": [
    {
     "name": "stdout",
     "output_type": "stream",
     "text": [
      "Done.\n"
     ]
    },
    {
     "data": {
      "text/html": [
       "<table>\n",
       "    <tr>\n",
       "        <th>Sports</th>\n",
       "        <th>Popularity</th>\n",
       "    </tr>\n",
       "    <tr>\n",
       "        <td>cricket</td>\n",
       "        <td>62</td>\n",
       "    </tr>\n",
       "    <tr>\n",
       "        <td>swimming</td>\n",
       "        <td>18</td>\n",
       "    </tr>\n",
       "    <tr>\n",
       "        <td>basketball</td>\n",
       "        <td>12</td>\n",
       "    </tr>\n",
       "    <tr>\n",
       "        <td>cricket_nets</td>\n",
       "        <td>12</td>\n",
       "    </tr>\n",
       "    <tr>\n",
       "        <td>rugby</td>\n",
       "        <td>12</td>\n",
       "    </tr>\n",
       "    <tr>\n",
       "        <td>soccer</td>\n",
       "        <td>12</td>\n",
       "    </tr>\n",
       "    <tr>\n",
       "        <td>skateboard</td>\n",
       "        <td>8</td>\n",
       "    </tr>\n",
       "    <tr>\n",
       "        <td>bowls</td>\n",
       "        <td>4</td>\n",
       "    </tr>\n",
       "    <tr>\n",
       "        <td>golf</td>\n",
       "        <td>4</td>\n",
       "    </tr>\n",
       "    <tr>\n",
       "        <td>rugby_union</td>\n",
       "        <td>4</td>\n",
       "    </tr>\n",
       "</table>"
      ],
      "text/plain": [
       "[(u'cricket', 62),\n",
       " (u'swimming', 18),\n",
       " (u'basketball', 12),\n",
       " (u'cricket_nets', 12),\n",
       " (u'rugby', 12),\n",
       " (u'soccer', 12),\n",
       " (u'skateboard', 8),\n",
       " (u'bowls', 4),\n",
       " (u'golf', 4),\n",
       " (u'rugby_union', 4)]"
      ]
     },
     "execution_count": 45,
     "metadata": {},
     "output_type": "execute_result"
    }
   ],
   "source": [
    "%%sql\n",
    "-- what is the most popular sport in Auckland\n",
    "SELECT value as Sports, COUNT(*) as Popularity\n",
    "FROM (SELECT * FROM nodes_tags\n",
    "      UNION ALL SELECT * FROM nodes_tags) as tags\n",
    "WHERE key = 'sport'\n",
    "GROUP BY value\n",
    "ORDER BY Popularity DESC\n",
    "LIMIT 10;"
   ]
  },
  {
   "cell_type": "markdown",
   "metadata": {},
   "source": [
    "## Closer look at postcodes\n",
    "\n",
    "We've seen in the dataset the postcodes that do not belong to Auckland, since they're all correct format, it's possible they belong to another city altogether. Let's have a look if the map covered more cities than just Auckland."
   ]
  },
  {
   "cell_type": "code",
   "execution_count": 47,
   "metadata": {},
   "outputs": [
    {
     "name": "stdout",
     "output_type": "stream",
     "text": [
      "Done.\n"
     ]
    },
    {
     "data": {
      "text/html": [
       "<table>\n",
       "    <tr>\n",
       "        <th>City name</th>\n",
       "        <th>Count</th>\n",
       "    </tr>\n",
       "    <tr>\n",
       "        <td>Auckland</td>\n",
       "        <td>1005</td>\n",
       "    </tr>\n",
       "    <tr>\n",
       "        <td>Orewa</td>\n",
       "        <td>79</td>\n",
       "    </tr>\n",
       "    <tr>\n",
       "        <td>North Shore City</td>\n",
       "        <td>69</td>\n",
       "    </tr>\n",
       "    <tr>\n",
       "        <td>Manukau</td>\n",
       "        <td>61</td>\n",
       "    </tr>\n",
       "    <tr>\n",
       "        <td>Papatoetoe</td>\n",
       "        <td>51</td>\n",
       "    </tr>\n",
       "    <tr>\n",
       "        <td>Manurewa</td>\n",
       "        <td>46</td>\n",
       "    </tr>\n",
       "    <tr>\n",
       "        <td>Otahuhu</td>\n",
       "        <td>41</td>\n",
       "    </tr>\n",
       "    <tr>\n",
       "        <td>Waitakere</td>\n",
       "        <td>32</td>\n",
       "    </tr>\n",
       "    <tr>\n",
       "        <td>Epsom</td>\n",
       "        <td>31</td>\n",
       "    </tr>\n",
       "    <tr>\n",
       "        <td>Takanini</td>\n",
       "        <td>31</td>\n",
       "    </tr>\n",
       "</table>"
      ],
      "text/plain": [
       "[(u'Auckland', 1005),\n",
       " (u'Orewa', 79),\n",
       " (u'North Shore City', 69),\n",
       " (u'Manukau', 61),\n",
       " (u'Papatoetoe', 51),\n",
       " (u'Manurewa', 46),\n",
       " (u'Otahuhu', 41),\n",
       " (u'Waitakere', 32),\n",
       " (u'Epsom', 31),\n",
       " (u'Takanini', 31)]"
      ]
     },
     "execution_count": 47,
     "metadata": {},
     "output_type": "execute_result"
    }
   ],
   "source": [
    "%%sql\n",
    "-- what cities are included in dataset\n",
    "SELECT tags.value as 'City name', COUNT(*) as Count \n",
    "FROM (SELECT * FROM nodes_tags UNION ALL\n",
    "      SELECT * FROM ways_tags) tags\n",
    "WHERE tags.key LIKE '%city'\n",
    "GROUP BY tags.value\n",
    "ORDER BY count DESC\n",
    "LIMIT 10;"
   ]
  },
  {
   "cell_type": "code",
   "execution_count": 48,
   "metadata": {},
   "outputs": [
    {
     "name": "stdout",
     "output_type": "stream",
     "text": [
      "Done.\n"
     ]
    },
    {
     "data": {
      "text/html": [
       "<table>\n",
       "    <tr>\n",
       "        <th>City name</th>\n",
       "        <th>Count</th>\n",
       "    </tr>\n",
       "    <tr>\n",
       "        <td>Auckland</td>\n",
       "        <td>1005</td>\n",
       "    </tr>\n",
       "    <tr>\n",
       "        <td>Hauraki, Auckland</td>\n",
       "        <td>25</td>\n",
       "    </tr>\n",
       "    <tr>\n",
       "        <td>auckland</td>\n",
       "        <td>6</td>\n",
       "    </tr>\n",
       "    <tr>\n",
       "        <td>Auckland Central</td>\n",
       "        <td>4</td>\n",
       "    </tr>\n",
       "    <tr>\n",
       "        <td>Greenlane, Auckland</td>\n",
       "        <td>4</td>\n",
       "    </tr>\n",
       "    <tr>\n",
       "        <td>Mt. Eden, Auckland</td>\n",
       "        <td>4</td>\n",
       "    </tr>\n",
       "    <tr>\n",
       "        <td>New Lynn, Auckland</td>\n",
       "        <td>3</td>\n",
       "    </tr>\n",
       "    <tr>\n",
       "        <td>Otahuhu, Auckland</td>\n",
       "        <td>3</td>\n",
       "    </tr>\n",
       "    <tr>\n",
       "        <td>Auckland Airport</td>\n",
       "        <td>2</td>\n",
       "    </tr>\n",
       "    <tr>\n",
       "        <td>Epsom, Auckland</td>\n",
       "        <td>2</td>\n",
       "    </tr>\n",
       "</table>"
      ],
      "text/plain": [
       "[(u'Auckland', 1005),\n",
       " (u'Hauraki, Auckland', 25),\n",
       " (u'auckland', 6),\n",
       " (u'Auckland Central', 4),\n",
       " (u'Greenlane, Auckland', 4),\n",
       " (u'Mt. Eden, Auckland', 4),\n",
       " (u'New Lynn, Auckland', 3),\n",
       " (u'Otahuhu, Auckland', 3),\n",
       " (u'Auckland Airport', 2),\n",
       " (u'Epsom, Auckland', 2)]"
      ]
     },
     "execution_count": 48,
     "metadata": {},
     "output_type": "execute_result"
    }
   ],
   "source": [
    "%%sql\n",
    "-- is Auckland city name entered consistently\n",
    "SELECT tags.value as 'City name', COUNT(*) as Count\n",
    "FROM (SELECT * FROM nodes_tags UNION ALL\n",
    "      SELECT * FROM ways_tags) tags\n",
    "WHERE tags.key LIKE '%city'\n",
    "AND value like '%Auckland%'\n",
    "GROUP BY tags.value\n",
    "ORDER BY count DESC\n",
    "LIMIT 10;"
   ]
  },
  {
   "cell_type": "markdown",
   "metadata": {},
   "source": [
    "We can see that there is inconsistency in how the city name is being entered, sometimes city name is replaced by the district name, sometimes city name is entered together with district name.\n",
    "\n",
    "I am going to check if there is there is inconsistency in entering postcode for entries where city name is entered as  `\"Auckland\"`."
   ]
  },
  {
   "cell_type": "code",
   "execution_count": 50,
   "metadata": {},
   "outputs": [
    {
     "name": "stdout",
     "output_type": "stream",
     "text": [
      "Done.\n"
     ]
    },
    {
     "data": {
      "text/html": [
       "<table>\n",
       "    <tr>\n",
       "        <th>Count</th>\n",
       "    </tr>\n",
       "    <tr>\n",
       "        <td>313</td>\n",
       "    </tr>\n",
       "</table>"
      ],
      "text/plain": [
       "[(313,)]"
      ]
     },
     "execution_count": 50,
     "metadata": {},
     "output_type": "execute_result"
    }
   ],
   "source": [
    "%%sql\n",
    "\n",
    "-- checking if foreign postal codes are incorrectly assigned to Auckland\n",
    "\n",
    "SELECT COUNT(*) as Count\n",
    "FROM(\n",
    "    SELECT tags.id\n",
    "    FROM (\n",
    "        SELECT * FROM nodes_tags\n",
    "        UNION \n",
    "        SELECT * FROM ways_tags) tags\n",
    "    WHERE value like 'Auckland'\n",
    "    \n",
    "    INTERSECT\n",
    "    \n",
    "    SELECT tags.id\n",
    "    FROM (\n",
    "        SELECT * FROM nodes_tags\n",
    "        UNION\n",
    "        SELECT * FROM ways_tags) tags\n",
    "    WHERE key = 'postcode'\n",
    "    and value not in (0600,2024,1010,2022,2102,0632,1023,1025,1071,2016,1011,\n",
    "                      2104,1061,0626,1072,2023,1026,1022,0610,1051,2025,1042,\n",
    "                      1062,1041,1021,0612,0620,1052,1060,0624,2105,2103,0602,\n",
    "                      0622,0627,0630,2571,0629,0618,1081,2576,0604,0614)\n",
    ")"
   ]
  }
 ],
 "metadata": {
  "anaconda-cloud": {},
  "kernelspec": {
   "display_name": "Python 3",
   "language": "python",
   "name": "python3"
  },
  "language_info": {
   "codemirror_mode": {
    "name": "ipython",
    "version": 3
   },
   "file_extension": ".py",
   "mimetype": "text/x-python",
   "name": "python",
   "nbconvert_exporter": "python",
   "pygments_lexer": "ipython3",
   "version": "3.6.2"
  }
 },
 "nbformat": 4,
 "nbformat_minor": 2
}
